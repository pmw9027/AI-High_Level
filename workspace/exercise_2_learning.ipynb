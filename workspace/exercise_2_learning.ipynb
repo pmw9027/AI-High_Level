{
 "cells": [
  {
   "cell_type": "markdown",
   "metadata": {
    "collapsed": true
   },
   "source": [
    "## Purpose : Backpropagation using numpy module"
   ]
  },
  {
   "cell_type": "code",
   "execution_count": 26,
   "metadata": {},
   "outputs": [],
   "source": [
    "import numpy as np"
   ]
  },
  {
   "cell_type": "markdown",
   "metadata": {},
   "source": [
    "### Sigmoid function"
   ]
  },
  {
   "cell_type": "code",
   "execution_count": 27,
   "metadata": {},
   "outputs": [],
   "source": [
    "def sigmoid_function(x):\n",
    "    return 1 / (1 + np.exp(-x))\n",
    "\n",
    "def sigmoid_derivative(x):\n",
    "    return x * (1 - x)\n"
   ]
  },
  {
   "cell_type": "markdown",
   "metadata": {},
   "source": [
    "### Hyper Parameter"
   ]
  },
  {
   "cell_type": "code",
   "execution_count": 28,
   "metadata": {},
   "outputs": [],
   "source": [
    "epochs = 20000\n",
    "learning_rate = 0.01\n",
    "\n",
    "hidden_layer_size = 3\n"
   ]
  },
  {
   "cell_type": "code",
   "execution_count": 29,
   "metadata": {},
   "outputs": [
    {
     "name": "stdout",
     "output_type": "stream",
     "text": [
      "[[0.58436912 0.33535793 0.50015428]\n [0.55014062 0.46651666 0.62285905]]\n\n[[0.4316877 ]\n [0.61590933]\n [0.27813044]]\n\n"
     ]
    }
   ],
   "source": [
    "X = np.array([[0, 0], [0, 1], [1, 0], [1, 1]])\n",
    "\n",
    "Y = np.array([[0], [1], [1], [0]])\n",
    "\n",
    "W_layer_1 = np.random.uniform(size=(X.shape[1], hidden_layer_size))\n",
    "W_layer_2 = np.random.uniform(size=(hidden_layer_size, Y.shape[1]))\n",
    "\n",
    "print(W_layer_1, end='\\n\\n')\n",
    "\n",
    "print(W_layer_2, end='\\n\\n')\n"
   ]
  },
  {
   "cell_type": "code",
   "execution_count": 34,
   "metadata": {},
   "outputs": [
    {
     "name": "stdout",
     "output_type": "stream",
     "text": [
      "0.32906285981262245\n0.3243863318708541\n"
     ]
    },
    {
     "name": "stdout",
     "output_type": "stream",
     "text": [
      "0.3207192980940319\n0.31763906843833434\n0.315003351656856\n"
     ]
    },
    {
     "name": "stdout",
     "output_type": "stream",
     "text": [
      "0.3127148107047286\n0.31070268455178696\n"
     ]
    },
    {
     "name": "stdout",
     "output_type": "stream",
     "text": [
      "0.3089140199311982\n0.30730817937773997\n"
     ]
    },
    {
     "name": "stdout",
     "output_type": "stream",
     "text": [
      "0.3058532686869109\n0.3045237367538432\n0.3032987129936645\n"
     ]
    },
    {
     "name": "stdout",
     "output_type": "stream",
     "text": [
      "0.3021608217502635\n0.30109531224449826\n0.3000894005675966\n"
     ]
    },
    {
     "name": "stdout",
     "output_type": "stream",
     "text": [
      "0.2991317549218533\n0.2982120763920707\n0.29732074028310024\n0.2964484703914901\n"
     ]
    },
    {
     "name": "stdout",
     "output_type": "stream",
     "text": [
      "0.2955860220296367\n"
     ]
    }
   ],
   "source": [
    "for i in range(epochs):\n",
    "    layer_1_output = sigmoid_function(np.dot(X, W_layer_1))\n",
    "    layer_2_output = sigmoid_function(np.dot(layer_1_output, W_layer_2))\n",
    "    \n",
    "    E = 1 / 2 * np.square(Y - layer_2_output).sum()\n",
    "    \n",
    "    layer_2_W_grad = (Y - layer_2_output) * sigmoid_derivative(layer_2_output) \n",
    "    layer_1_W_grad = layer_2_W_grad.dot(W_layer_2.T) * sigmoid_derivative(layer_1_output) \n",
    "    \n",
    "    W_layer_2 += learning_rate * np.dot(layer_1_output.T, layer_2_W_grad)\n",
    "    W_layer_1 += learning_rate * np.dot(X.T, layer_1_W_grad)\n",
    "    \n",
    "    if i % 1000 == 0:\n",
    "        print(E)\n"
   ]
  },
  {
   "cell_type": "code",
   "execution_count": 31,
   "metadata": {},
   "outputs": [],
   "source": []
  },
  {
   "cell_type": "code",
   "execution_count": null,
   "metadata": {},
   "outputs": [],
   "source": []
  }
 ],
 "metadata": {
  "kernelspec": {
   "display_name": "Python 2",
   "language": "python",
   "name": "python2"
  },
  "language_info": {
   "codemirror_mode": {
    "name": "ipython",
    "version": 2
   },
   "file_extension": ".py",
   "mimetype": "text/x-python",
   "name": "python",
   "nbconvert_exporter": "python",
   "pygments_lexer": "ipython2",
   "version": "2.7.6"
  }
 },
 "nbformat": 4,
 "nbformat_minor": 0
}
